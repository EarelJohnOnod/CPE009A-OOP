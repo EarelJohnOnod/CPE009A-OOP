{
  "nbformat": 4,
  "nbformat_minor": 0,
  "metadata": {
    "colab": {
      "provenance": [],
      "authorship_tag": "ABX9TyPpYDPJmKAu/B+oaRP/zhGA",
      "include_colab_link": true
    },
    "kernelspec": {
      "name": "python3",
      "display_name": "Python 3"
    },
    "language_info": {
      "name": "python"
    }
  },
  "cells": [
    {
      "cell_type": "markdown",
      "metadata": {
        "id": "view-in-github",
        "colab_type": "text"
      },
      "source": [
        "<a href=\"https://colab.research.google.com/github/EarelJohnOnod/CPE009A-OOP/blob/main/Demo3.ipynb\" target=\"_parent\"><img src=\"https://colab.research.google.com/assets/colab-badge.svg\" alt=\"Open In Colab\"/></a>"
      ]
    },
    {
      "cell_type": "markdown",
      "source": [
        "If statement example"
      ],
      "metadata": {
        "id": "tVKEv3N9PTVI"
      }
    },
    {
      "cell_type": "code",
      "source": [
        "a = 12\n",
        "b = 12\n",
        "if b > a:\n",
        "  print(\"b is greater than a\")\n",
        "elif b == a:\n",
        "  print(\"b is equal to a\")\n",
        "else:\n",
        "  print(\"a is greater than b\")"
      ],
      "metadata": {
        "colab": {
          "base_uri": "https://localhost:8080/"
        },
        "id": "OAVBtJPjOqKd",
        "outputId": "592e8903-dbd8-418b-ab40-2ca4dde86b39"
      },
      "execution_count": 6,
      "outputs": [
        {
          "output_type": "stream",
          "name": "stdout",
          "text": [
            "b is equal to a\n"
          ]
        }
      ]
    },
    {
      "cell_type": "markdown",
      "source": [
        "Self-made example"
      ],
      "metadata": {
        "id": "x5_WEGckUJoS"
      }
    },
    {
      "cell_type": "code",
      "source": [
        "apple = str(\"fruit\")\n",
        "orange = str(\"fruit\")\n",
        "if apple == \"fruit\" and orange == \"fruit\":\n",
        "  print(\"All are fruits\")\n",
        "else:\n",
        "  print(\"They aren't both fruits\")\n",
        "\n",
        "#so both being strings also work"
      ],
      "metadata": {
        "colab": {
          "base_uri": "https://localhost:8080/"
        },
        "id": "K-AUu2lVUMHq",
        "outputId": "cc0b4d61-3837-4748-9536-7a67fee0acba"
      },
      "execution_count": 10,
      "outputs": [
        {
          "output_type": "stream",
          "name": "stdout",
          "text": [
            "All are fruits\n"
          ]
        }
      ]
    },
    {
      "cell_type": "markdown",
      "source": [
        "Self-made Nested If example (w/loop)"
      ],
      "metadata": {
        "id": "IGqh1qCxWxvT"
      }
    },
    {
      "cell_type": "code",
      "source": [
        "import os\n",
        "import time\n",
        "\n",
        "x = str(\"ten\")\n",
        "x = 10\n",
        "\n",
        "def clear_console():\n",
        "    os.system('clear')\n",
        "\n",
        "if x == \"ten\":\n",
        "  if x == \"10\":\n",
        "    print(\"x is 10\")\n",
        "  else:\n",
        "    print(\"x is not a ten\")\n",
        "else:\n",
        "    for x in range(1000000000000000):\n",
        "      print(\"x is not a ten\")\n",
        "      time.sleep(2)\n",
        "      clear_console()\n",
        "      print(\"x is not a 10\")\n",
        "      time.sleep(1)\n",
        "      clear_console()\n",
        "\n",
        "#imatating a glitch effect here but the \"output clearing\" doesn't work therefore it can't be observed"
      ],
      "metadata": {
        "colab": {
          "base_uri": "https://localhost:8080/",
          "height": 385
        },
        "id": "DZIg9F0zWzmb",
        "outputId": "74c755e8-ba35-4baf-839f-5f862d4dea5d"
      },
      "execution_count": 47,
      "outputs": [
        {
          "output_type": "stream",
          "name": "stdout",
          "text": [
            "x is not a ten\n",
            "x is not a 10\n",
            "x is not a ten\n",
            "x is not a 10\n",
            "x is not a ten\n",
            "x is not a 10\n",
            "x is not a ten\n"
          ]
        },
        {
          "output_type": "error",
          "ename": "KeyboardInterrupt",
          "evalue": "",
          "traceback": [
            "\u001b[0;31m---------------------------------------------------------------------------\u001b[0m",
            "\u001b[0;31mKeyboardInterrupt\u001b[0m                         Traceback (most recent call last)",
            "\u001b[0;32m<ipython-input-47-3cd37bf3a228>\u001b[0m in \u001b[0;36m<cell line: 10>\u001b[0;34m()\u001b[0m\n\u001b[1;32m     16\u001b[0m     \u001b[0;32mfor\u001b[0m \u001b[0mx\u001b[0m \u001b[0;32min\u001b[0m \u001b[0mrange\u001b[0m\u001b[0;34m(\u001b[0m\u001b[0;36m1000000000000000\u001b[0m\u001b[0;34m)\u001b[0m\u001b[0;34m:\u001b[0m\u001b[0;34m\u001b[0m\u001b[0;34m\u001b[0m\u001b[0m\n\u001b[1;32m     17\u001b[0m       \u001b[0mprint\u001b[0m\u001b[0;34m(\u001b[0m\u001b[0;34m\"x is not a ten\"\u001b[0m\u001b[0;34m)\u001b[0m\u001b[0;34m\u001b[0m\u001b[0;34m\u001b[0m\u001b[0m\n\u001b[0;32m---> 18\u001b[0;31m       \u001b[0mtime\u001b[0m\u001b[0;34m.\u001b[0m\u001b[0msleep\u001b[0m\u001b[0;34m(\u001b[0m\u001b[0;36m2\u001b[0m\u001b[0;34m)\u001b[0m\u001b[0;34m\u001b[0m\u001b[0;34m\u001b[0m\u001b[0m\n\u001b[0m\u001b[1;32m     19\u001b[0m       \u001b[0mclear_console\u001b[0m\u001b[0;34m(\u001b[0m\u001b[0;34m)\u001b[0m\u001b[0;34m\u001b[0m\u001b[0;34m\u001b[0m\u001b[0m\n\u001b[1;32m     20\u001b[0m       \u001b[0mprint\u001b[0m\u001b[0;34m(\u001b[0m\u001b[0;34m\"x is not a 10\"\u001b[0m\u001b[0;34m)\u001b[0m\u001b[0;34m\u001b[0m\u001b[0;34m\u001b[0m\u001b[0m\n",
            "\u001b[0;31mKeyboardInterrupt\u001b[0m: "
          ]
        }
      ]
    },
    {
      "cell_type": "markdown",
      "source": [
        "Another Self-made Nested if example"
      ],
      "metadata": {
        "id": "V5gSxethY8eb"
      }
    },
    {
      "cell_type": "code",
      "source": [
        "import time\n",
        "\n",
        "chaos = 101\n",
        "if chaos > 1:\n",
        "  print(\"'Something is happening'\")\n",
        "  time.sleep(3)\n",
        "  if chaos > 25:\n",
        "    print(\"'There's a riot happening!'\")\n",
        "    time.sleep(3)\n",
        "    if chaos > 50:\n",
        "      print(\"'They are bringing the tanks!'\")\n",
        "      time.sleep(1)\n",
        "      if chaos > 75:\n",
        "        print(\"'They have gone mad!'\")\n",
        "        time.sleep(5)\n",
        "        if chaos > 100:\n",
        "          print(\"'It's gone...'\")\n",
        "          time.sleep(7)\n",
        "          print(\"'ALL gone.'\")\n",
        "\n",
        "#imitating a dialogue based on parameter but I'm stiil not knowledgeable about RNG's so it became a dialogue line instead"
      ],
      "metadata": {
        "colab": {
          "base_uri": "https://localhost:8080/"
        },
        "id": "CaTiB3REZAXL",
        "outputId": "00a52d9d-2663-4872-ccba-4ef7f1b171b1"
      },
      "execution_count": 52,
      "outputs": [
        {
          "output_type": "stream",
          "name": "stdout",
          "text": [
            "'Something is happening'\n",
            "'There's a riot happening!'\n",
            "'They are bringing the tanks!'\n",
            "'They have gone mad!'\n",
            "'It's gone...'\n",
            "'ALL gone.'\n"
          ]
        }
      ]
    },
    {
      "cell_type": "markdown",
      "source": [
        "CAN YOU VOTE? (EXAMPLE 1)"
      ],
      "metadata": {
        "id": "-RGbYlh-epbO"
      }
    },
    {
      "cell_type": "code",
      "source": [
        "age = 18 #can be any number\n",
        "if age >= 18:\n",
        "  print(\"You can vote.\")\n",
        "else:\n",
        "  print(\"You can't vote.\")"
      ],
      "metadata": {
        "colab": {
          "base_uri": "https://localhost:8080/"
        },
        "id": "-6OpludPesY1",
        "outputId": "32450c8b-2a1b-49e9-bfe7-2990e6fd123a"
      },
      "execution_count": 50,
      "outputs": [
        {
          "output_type": "stream",
          "name": "stdout",
          "text": [
            "You can't vote.\n"
          ]
        }
      ]
    },
    {
      "cell_type": "markdown",
      "source": [
        "POSITIVE, NEGATIVE or ZERO? (EXAMPLE 2)"
      ],
      "metadata": {
        "id": "tDHqdUWldTtN"
      }
    },
    {
      "cell_type": "code",
      "source": [
        "n = -38 #can be any number\n",
        "if n > 0:\n",
        "  print(\"It is positive.\")\n",
        "elif n == 0:\n",
        "  print(\"It is zero.\")\n",
        "else:\n",
        "  print(\"It is negative.\")"
      ],
      "metadata": {
        "colab": {
          "base_uri": "https://localhost:8080/"
        },
        "id": "cx2PdfAidW_v",
        "outputId": "95e3ad4a-d70e-436e-aed6-4b849586fdc2"
      },
      "execution_count": 48,
      "outputs": [
        {
          "output_type": "stream",
          "name": "stdout",
          "text": [
            "It is negative.\n"
          ]
        }
      ]
    },
    {
      "cell_type": "markdown",
      "source": [
        "Passed, eh? (EXAMPLE 3)"
      ],
      "metadata": {
        "id": "JYcj0x4_fO3W"
      }
    },
    {
      "cell_type": "code",
      "source": [
        "import time\n",
        "\n",
        "grade = -1 #can be any number\n",
        "\n",
        "if grade >= 50: #this is depending on TIP's grading\n",
        "  print(\"You passed.\")\n",
        "elif grade <= 0:\n",
        "  print(\"I don't know what you did,\")\n",
        "  time.sleep(2)\n",
        "  print(\"but you outdid it.\")\n",
        "  time.sleep(1)\n",
        "  print(\"Still,\")\n",
        "  time.sleep(2)\n",
        "  print(\"You didn't pass.\")\n",
        "else:\n",
        "    print(\"Sorry,\")\n",
        "    time.sleep(2)\n",
        "    print(\"You failed.\")"
      ],
      "metadata": {
        "colab": {
          "base_uri": "https://localhost:8080/"
        },
        "id": "cLq0dobSfTUd",
        "outputId": "3dcad1b8-d212-4bab-a8cf-eb9be6a632bc"
      },
      "execution_count": 74,
      "outputs": [
        {
          "output_type": "stream",
          "name": "stdout",
          "text": [
            "I don't know what you did,\n",
            "but you outdid it.\n",
            "Still,\n",
            "You didn't pass.\n"
          ]
        }
      ]
    }
  ]
}