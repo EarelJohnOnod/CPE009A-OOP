{
  "nbformat": 4,
  "nbformat_minor": 0,
  "metadata": {
    "colab": {
      "provenance": [],
      "authorship_tag": "ABX9TyNSMDljSAYpPVARQ01Xxdg7",
      "include_colab_link": true
    },
    "kernelspec": {
      "name": "python3",
      "display_name": "Python 3"
    },
    "language_info": {
      "name": "python"
    }
  },
  "cells": [
    {
      "cell_type": "markdown",
      "metadata": {
        "id": "view-in-github",
        "colab_type": "text"
      },
      "source": [
        "<a href=\"https://colab.research.google.com/github/EarelJohnOnod/CPE009A-OOP/blob/main/Demo2.ipynb\" target=\"_parent\"><img src=\"https://colab.research.google.com/assets/colab-badge.svg\" alt=\"Open In Colab\"/></a>"
      ]
    },
    {
      "cell_type": "code",
      "source": [
        "n1 = 50\n",
        "n2 = 50\n",
        "n3 = 50\n",
        "sum = n1 + n2 + n3\n",
        "ave = sum / 3\n",
        "print(sum)\n",
        "print(ave)"
      ],
      "metadata": {
        "colab": {
          "base_uri": "https://localhost:8080/"
        },
        "id": "uOVj85iMPqZO",
        "outputId": "8bf6bc6a-dfe1-4aec-9d49-45fa3240437c"
      },
      "execution_count": 6,
      "outputs": [
        {
          "output_type": "stream",
          "name": "stdout",
          "text": [
            "150\n",
            "50.0\n"
          ]
        }
      ]
    },
    {
      "cell_type": "code",
      "source": [
        "n1, n2, n3 = input(\"Enter three numbers separated with space: \").split()\n",
        "\n",
        "sum = int(n1) + int(n2) + int(n3)\n",
        "ave = sum / 3\n",
        "\n",
        "if ave > 50:\n",
        "    print(\"The average is greater than 50\")\n",
        "if ave < 50:\n",
        "    print(\"The average is lesser than 50\")\n",
        "if ave == 50:\n",
        "    print(\"The average is equal to 50\")"
      ],
      "metadata": {
        "colab": {
          "base_uri": "https://localhost:8080/"
        },
        "id": "BALHUDo6QL0u",
        "outputId": "a26786a2-4cf4-44cb-ba1a-7f4ed44e3d17"
      },
      "execution_count": 13,
      "outputs": [
        {
          "output_type": "stream",
          "name": "stdout",
          "text": [
            "Enter three numbers separated with space: 50 50 50\n",
            "The average is equal to 50\n"
          ]
        }
      ]
    }
  ]
}