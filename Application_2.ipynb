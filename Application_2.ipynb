{
  "nbformat": 4,
  "nbformat_minor": 0,
  "metadata": {
    "colab": {
      "provenance": [],
      "authorship_tag": "ABX9TyOUAzmPq1Ca7vUW15hmYbn6",
      "include_colab_link": true
    },
    "kernelspec": {
      "name": "python3",
      "display_name": "Python 3"
    },
    "language_info": {
      "name": "python"
    }
  },
  "cells": [
    {
      "cell_type": "markdown",
      "metadata": {
        "id": "view-in-github",
        "colab_type": "text"
      },
      "source": [
        "<a href=\"https://colab.research.google.com/github/EarelJohnOnod/CPE009A-OOP/blob/main/Application_2.ipynb\" target=\"_parent\"><img src=\"https://colab.research.google.com/assets/colab-badge.svg\" alt=\"Open In Colab\"/></a>"
      ]
    },
    {
      "cell_type": "markdown",
      "source": [],
      "metadata": {
        "id": "9BDebd6vuJkE"
      }
    },
    {
      "cell_type": "code",
      "source": [
        "# Parent\n",
        "\n",
        "class Shapes:\n",
        "    def __init__(self, side): #Attritbute/s\n",
        "        self._side = side\n",
        "\n",
        "# Inheritance\n",
        "\n",
        "class Triangle(Shapes):\n",
        "    pass\n",
        "\n",
        "class Square(Shapes):\n",
        "    pass\n",
        "\n",
        "class Pentagon(Shapes):\n",
        "    pass\n",
        "\n",
        "class Octagon(Shapes):\n",
        "    pass\n",
        "\n",
        "class Nonagon(Shapes):\n",
        "    pass\n",
        "\n",
        "# Attribute Assignment\n",
        "\n",
        "ts = Triangle(\"3\")\n",
        "ss = Square(\"4\")\n",
        "ps = Pentagon(\"5\")\n",
        "os = Octagon(\"8\")\n",
        "ns = Nonagon(\"9\")\n",
        "\n",
        "# Print Output\n",
        "\n",
        "print(\"A Triangle has \" + ts._side + \" sides.\")\n",
        "print(\"\")\n",
        "print(\"A Square has \" + ss._side + \" sides.\")\n",
        "print(\"\")\n",
        "print(\"A Pentagon has \" + ps._side + \" sides.\")\n",
        "print(\"\")\n",
        "print(\"An Octagon has \" + os._side + \" sides.\")\n",
        "print(\"\")\n",
        "print(\"A Nonagon has \" + ns._side + \" sides.\")"
      ],
      "metadata": {
        "colab": {
          "base_uri": "https://localhost:8080/"
        },
        "id": "iRlxC3m7uIVd",
        "outputId": "94c6d5b7-73c0-40bf-858e-5327e8fc536e"
      },
      "execution_count": 5,
      "outputs": [
        {
          "output_type": "stream",
          "name": "stdout",
          "text": [
            "A Triangle has 3 sides.\n",
            "\n",
            "A Square has 4 sides.\n",
            "\n",
            "A Pentagon has 5 sides.\n",
            "\n",
            "An Octagon has 8 sides.\n",
            "\n",
            "A Nonagon has 9 sides.\n"
          ]
        }
      ]
    }
  ]
}