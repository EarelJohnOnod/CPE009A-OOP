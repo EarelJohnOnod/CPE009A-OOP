{
  "nbformat": 4,
  "nbformat_minor": 0,
  "metadata": {
    "colab": {
      "provenance": [],
      "authorship_tag": "ABX9TyOEYoI4wPj4QPVf1kyMR5qO",
      "include_colab_link": true
    },
    "kernelspec": {
      "name": "python3",
      "display_name": "Python 3"
    },
    "language_info": {
      "name": "python"
    }
  },
  "cells": [
    {
      "cell_type": "markdown",
      "metadata": {
        "id": "view-in-github",
        "colab_type": "text"
      },
      "source": [
        "<a href=\"https://colab.research.google.com/github/EarelJohnOnod/CPE009A-OOP/blob/main/Exercise2.ipynb\" target=\"_parent\"><img src=\"https://colab.research.google.com/assets/colab-badge.svg\" alt=\"Open In Colab\"/></a>"
      ]
    },
    {
      "cell_type": "markdown",
      "source": [
        "Algorithm to get the perimeter and area of a rectangle:\n",
        "1. Ask for length and width\n",
        "2. Calculate perimeter and area\n",
        "3. Show le results"
      ],
      "metadata": {
        "id": "qRz3mLd2VZZm"
      }
    },
    {
      "cell_type": "code",
      "source": [
        "len = input(\"Enter length: \")\n",
        "wid = input(\"Enter width: \")\n",
        "\n",
        "per1 = int(len) + int(wid)\n",
        "per2 = int(per1) * 2\n",
        "area = int(len) * int(wid)\n",
        "\n",
        "print(\"The rectangle's perimeter is: \" + str(per2))\n",
        "print(\"The rectangle's area is: \" + str(area))"
      ],
      "metadata": {
        "colab": {
          "base_uri": "https://localhost:8080/"
        },
        "id": "IShv0hd_Vfa_",
        "outputId": "b6d90da9-e8ac-47ba-a13b-6f4bbeabe13d"
      },
      "execution_count": 1,
      "outputs": [
        {
          "output_type": "stream",
          "name": "stdout",
          "text": [
            "Enter length: 5\n",
            "Enter width: 5\n",
            "The rectangle's perimeter is: 20\n",
            "The rectangle's area is: 25\n"
          ]
        }
      ]
    }
  ]
}