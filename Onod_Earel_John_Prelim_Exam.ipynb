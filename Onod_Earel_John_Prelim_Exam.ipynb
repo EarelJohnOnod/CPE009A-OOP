{
  "nbformat": 4,
  "nbformat_minor": 0,
  "metadata": {
    "colab": {
      "provenance": [],
      "authorship_tag": "ABX9TyOA2k0N3eTNGyqPs8Y3+T9r",
      "include_colab_link": true
    },
    "kernelspec": {
      "name": "python3",
      "display_name": "Python 3"
    },
    "language_info": {
      "name": "python"
    }
  },
  "cells": [
    {
      "cell_type": "markdown",
      "metadata": {
        "id": "view-in-github",
        "colab_type": "text"
      },
      "source": [
        "<a href=\"https://colab.research.google.com/github/EarelJohnOnod/CPE009A-OOP/blob/main/Onod_Earel_John_Prelim_Exam.ipynb\" target=\"_parent\"><img src=\"https://colab.research.google.com/assets/colab-badge.svg\" alt=\"Open In Colab\"/></a>"
      ]
    },
    {
      "cell_type": "markdown",
      "source": [
        "**My Own Fix**"
      ],
      "metadata": {
        "id": "T_LwNHfxwhI8"
      }
    },
    {
      "cell_type": "code",
      "source": [
        "fullname = input(\"Enter your fullname: \")\n",
        "age = input(\"Enter your age: \")\n",
        "print(\"Your fullname is \" + fullname + \", and your age is \" + age)"
      ],
      "metadata": {
        "colab": {
          "base_uri": "https://localhost:8080/"
        },
        "id": "gkQP_xlttasj",
        "outputId": "4abb394f-747c-48e4-9f68-9ce6b38b3a62"
      },
      "execution_count": 12,
      "outputs": [
        {
          "output_type": "stream",
          "name": "stdout",
          "text": [
            "Enter your fullname: Earel John E. Onod\n",
            "Enter your age: 18\n",
            "Your fullname is Earel John E. Onod, and your age is 18\n"
          ]
        }
      ]
    },
    {
      "cell_type": "markdown",
      "source": [
        "**Testing \\n**"
      ],
      "metadata": {
        "id": "B6VmM99zwnh0"
      }
    },
    {
      "cell_type": "code",
      "source": [
        "print(\"test\" + \"\\n\" + \"ing\")\n",
        "#it breaks line which is not suitable for what we are chasing for"
      ],
      "metadata": {
        "colab": {
          "base_uri": "https://localhost:8080/"
        },
        "id": "LU5-NbceuWyc",
        "outputId": "49a15e7f-01d5-405c-aff4-dc3ec7ac5411"
      },
      "execution_count": 13,
      "outputs": [
        {
          "output_type": "stream",
          "name": "stdout",
          "text": [
            "test\n",
            "ing\n"
          ]
        }
      ]
    },
    {
      "cell_type": "markdown",
      "source": [
        "**Comparing Both Possible Answers**"
      ],
      "metadata": {
        "id": "jcaa2iv9w9QD"
      }
    },
    {
      "cell_type": "code",
      "source": [
        "fullname = input(\"Enter your fullname: \")\n",
        "age = input(\"Enter your age: \")\n",
        "print(\"Fullname and age: \" + fullname + \" \" + \"and\" + \" \" + age)\n",
        "print(\" \")\n",
        "print(\"Fullname and age: \" + fullname + age)"
      ],
      "metadata": {
        "colab": {
          "base_uri": "https://localhost:8080/"
        },
        "id": "z-1fsFA1xDAD",
        "outputId": "9c4a038d-7da4-4232-e61d-43aa18b72c05"
      },
      "execution_count": 17,
      "outputs": [
        {
          "output_type": "stream",
          "name": "stdout",
          "text": [
            "Enter your fullname: Earel John Onod\n",
            "Enter your age: 18\n",
            "Fullname and age: Earel John Onod and 18\n",
            " \n",
            "Fullname and age: Earel John Onod18\n"
          ]
        }
      ]
    },
    {
      "cell_type": "markdown",
      "source": [
        "**Conclusion: A is more suitable as the answer**\n",
        "\n"
      ],
      "metadata": {
        "id": "bzsdc7csxtXM"
      }
    }
  ]
}