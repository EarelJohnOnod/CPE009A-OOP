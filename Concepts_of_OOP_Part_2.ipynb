{
  "nbformat": 4,
  "nbformat_minor": 0,
  "metadata": {
    "colab": {
      "provenance": [],
      "authorship_tag": "ABX9TyPoHmJTrHbk8BsWGcfpv+mq",
      "include_colab_link": true
    },
    "kernelspec": {
      "name": "python3",
      "display_name": "Python 3"
    },
    "language_info": {
      "name": "python"
    }
  },
  "cells": [
    {
      "cell_type": "markdown",
      "metadata": {
        "id": "view-in-github",
        "colab_type": "text"
      },
      "source": [
        "<a href=\"https://colab.research.google.com/github/EarelJohnOnod/CPE009A-OOP/blob/main/Concepts_of_OOP_Part_2.ipynb\" target=\"_parent\"><img src=\"https://colab.research.google.com/assets/colab-badge.svg\" alt=\"Open In Colab\"/></a>"
      ]
    },
    {
      "cell_type": "markdown",
      "source": [
        "**Inheritance, Encapsulation (w/ Mangling), and Creating Multiple Object Names**"
      ],
      "metadata": {
        "id": "7IbBhkbkrJOc"
      }
    },
    {
      "cell_type": "code",
      "source": [
        "# parent class\n",
        "class RegularPolygon:\n",
        "  def __init__(self, side): # characteristics\n",
        "    self._side = side\n",
        "\n",
        "# children class\n",
        "class Square(RegularPolygon):\n",
        "  def area(self):\n",
        "      return self._side * self._side\n",
        "\n",
        "class EquilateralTriangle(RegularPolygon):\n",
        "  def area(self):\n",
        "      return self._side * self._side * 0.433\n",
        "\n",
        "square = Square(4)\n",
        "print(\"The area of the square is\", square.area(), \"if its sides are measured as\", str(square._side) + \".\")\n",
        "\n",
        "print(\"\")\n",
        "\n",
        "equilTriangle = EquilateralTriangle(4)\n",
        "print(\"The area of the equilateral triangle is\", equilTriangle.area(), \"if its sides are measured as\", str(equilTriangle._side) + \".\")\n"
      ],
      "metadata": {
        "colab": {
          "base_uri": "https://localhost:8080/"
        },
        "id": "UhAi1m7cfgFK",
        "outputId": "3b54be18-b3dc-47ab-aaaf-51114ebffa93"
      },
      "execution_count": 38,
      "outputs": [
        {
          "output_type": "stream",
          "name": "stdout",
          "text": [
            "The area of the square is 16 if its sides are measured as 4.\n",
            "\n",
            "The area of the equilateral triangle is 6.928 if its sides are measured as 4.\n"
          ]
        }
      ]
    },
    {
      "cell_type": "markdown",
      "source": [
        "**Application 1**"
      ],
      "metadata": {
        "id": "ymYLJag-scis"
      }
    },
    {
      "cell_type": "code",
      "source": [
        "class Person:\n",
        "  def __init__(self, pre, mid, fin):\n",
        "    self._pre = pre\n",
        "    self._mid = mid\n",
        "    self._fin = fin\n",
        "\n",
        "class std1(Person):\n",
        "  def grade(self):\n",
        "      return (self._pre + self._mid + self._fin) / 3\n",
        "      round = grade % 10\n",
        "\n",
        "class std2(Person):\n",
        "  def grade(self):\n",
        "      return (self._pre + self._mid + self._fin) / 3\n",
        "\n",
        "class std3(Person):\n",
        "  def grade(self):\n",
        "      return (self._pre + self._mid + self._fin) / 3\n",
        "\n",
        "std1g = std1(87.88, 84.50, 80.47)\n",
        "print(\"Student 1:\", std1g.grade())\n",
        "\n",
        "print(\"\")\n",
        "\n",
        "std2g = std2(95.92, 91.09, 94.90)\n",
        "print(\"Student 2:\", std2g.grade())\n",
        "\n",
        "print(\"\")\n",
        "\n",
        "std3g = std3(60, 66.67, 100)\n",
        "print(\"Student 3:\", std3g.grade())"
      ],
      "metadata": {
        "colab": {
          "base_uri": "https://localhost:8080/"
        },
        "id": "5qhrkxWW4RSL",
        "outputId": "0cf2d783-0baa-4561-94ca-e1220e9577e0"
      },
      "execution_count": 72,
      "outputs": [
        {
          "output_type": "stream",
          "name": "stdout",
          "text": [
            "Student 1: 84.28333333333333\n",
            "\n",
            "Student 2: 93.96999999999998\n",
            "\n",
            "Student 3: 75.55666666666667\n"
          ]
        }
      ]
    }
  ]
}