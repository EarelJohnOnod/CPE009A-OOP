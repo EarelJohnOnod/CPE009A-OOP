{
  "nbformat": 4,
  "nbformat_minor": 0,
  "metadata": {
    "colab": {
      "provenance": [],
      "authorship_tag": "ABX9TyNKp7L89ljIElT6nbzoC2N1",
      "include_colab_link": true
    },
    "kernelspec": {
      "name": "python3",
      "display_name": "Python 3"
    },
    "language_info": {
      "name": "python"
    }
  },
  "cells": [
    {
      "cell_type": "markdown",
      "metadata": {
        "id": "view-in-github",
        "colab_type": "text"
      },
      "source": [
        "<a href=\"https://colab.research.google.com/github/EarelJohnOnod/CPE009A-OOP/blob/main/Demo5.ipynb\" target=\"_parent\"><img src=\"https://colab.research.google.com/assets/colab-badge.svg\" alt=\"Open In Colab\"/></a>"
      ]
    },
    {
      "cell_type": "code",
      "source": [
        "class Car:\n",
        "\n",
        "  def __init__(self, name, color, mileage):\n",
        "    self.name = name\n",
        "    self.color = color\n",
        "    self.mileage = mileage\n",
        "\n",
        "obj1 = Car(\"BMW\", \"Red\", 1000)\n",
        "obj2 = Car (\"Toyota\", \"Blue\", 1200)\n",
        "\n",
        "print(obj1.name)\n",
        "print(obj1.color)\n",
        "print(obj1.mileage)\n",
        "\n",
        "print(\" \")\n",
        "\n",
        "print(obj2.name)\n",
        "print(obj2.color)\n",
        "print(obj2.mileage)"
      ],
      "metadata": {
        "colab": {
          "base_uri": "https://localhost:8080/"
        },
        "id": "C8fezne0lgRB",
        "outputId": "ab3adf6f-d177-4031-9a23-af392b546fcf"
      },
      "execution_count": 12,
      "outputs": [
        {
          "output_type": "stream",
          "name": "stdout",
          "text": [
            "BMW\n",
            "Red\n",
            "1000\n",
            " \n",
            "Toyota\n",
            "Blue\n",
            "1200\n"
          ]
        }
      ]
    },
    {
      "cell_type": "code",
      "source": [
        "class Car:\n",
        "\n",
        "  def __init__(self, name, mileage):\n",
        "    self.name = name\n",
        "    self.mileage = mileage\n",
        "\n",
        "  def description(self):\n",
        "      return \"The {self.name} car gives the mileage of {self.mileage} km/l\"\n",
        "\n",
        "class BMW(Car):\n",
        "  pass\n",
        "\n",
        "class Audi(Car):\n",
        "  def audi_desc(self):\n",
        "    return \"This is the description method of class Audi.\"\n",
        "\n",
        "obj1 = BMW(\"BMW 7-series\", 39.53)\n",
        "print(obj1.description())\n",
        "\n",
        "obj2 = Audi(\"Audi A8 L\", 14)\n",
        "print(obj2.description())\n",
        "print(obj2.audi_desc())"
      ],
      "metadata": {
        "colab": {
          "base_uri": "https://localhost:8080/"
        },
        "id": "Kd8BYHijjqR4",
        "outputId": "0e1599ad-7ced-4d4c-9c7d-559ece45b86d"
      },
      "execution_count": 9,
      "outputs": [
        {
          "output_type": "stream",
          "name": "stdout",
          "text": [
            "The {self.name} car gives the mileage of {self.mileage} km/l\n",
            "The {self.name} car gives the mileage of {self.mileage} km/l\n",
            "This is the description method of class Audi.\n"
          ]
        }
      ]
    },
    {
      "cell_type": "markdown",
      "source": [
        "**Application 1 - Write a Phython program that prints your student information with the following attributes: Name, Age, Course, and Section**"
      ],
      "metadata": {
        "id": "sMC-cXMwmr5K"
      }
    },
    {
      "cell_type": "code",
      "source": [
        "class student:\n",
        "\n",
        "  def __init__(self, name, age, course, section):\n",
        "    self.name = name\n",
        "    self.age = age\n",
        "    self.course = course\n",
        "    self.section = section\n",
        "\n",
        "me = student(\"Earel John E. Onod\", \"18\", \"CPE009A\", \"CPE11S2\")\n",
        "\n",
        "print(\"Name: \" + me.name)\n",
        "print(\"Age: \" + me.age)\n",
        "print(\"Course: \" + me.course)\n",
        "print(\"Section: \" + me.section)"
      ],
      "metadata": {
        "colab": {
          "base_uri": "https://localhost:8080/"
        },
        "id": "xHVUZ7a2nSO6",
        "outputId": "b79c7d57-1ff5-48c2-d851-aa889f3f9a7e"
      },
      "execution_count": 15,
      "outputs": [
        {
          "output_type": "stream",
          "name": "stdout",
          "text": [
            "Name: Earel John E. Onod\n",
            "Age: 18\n",
            "Course: CPE009A\n",
            "Section: CPE11S2\n"
          ]
        }
      ]
    }
  ]
}