{
  "nbformat": 4,
  "nbformat_minor": 0,
  "metadata": {
    "colab": {
      "provenance": [],
      "authorship_tag": "ABX9TyM8Of5vqDce3HyYLgm34kBM",
      "include_colab_link": true
    },
    "kernelspec": {
      "name": "python3",
      "display_name": "Python 3"
    },
    "language_info": {
      "name": "python"
    }
  },
  "cells": [
    {
      "cell_type": "markdown",
      "metadata": {
        "id": "view-in-github",
        "colab_type": "text"
      },
      "source": [
        "<a href=\"https://colab.research.google.com/github/EarelJohnOnod/CPE009A-OOP/blob/main/Demo1.ipynb\" target=\"_parent\"><img src=\"https://colab.research.google.com/assets/colab-badge.svg\" alt=\"Open In Colab\"/></a>"
      ]
    },
    {
      "cell_type": "code",
      "execution_count": null,
      "metadata": {
        "id": "zeXa4GJOHFtU"
      },
      "outputs": [],
      "source": []
    },
    {
      "cell_type": "markdown",
      "source": [
        "Python Identation"
      ],
      "metadata": {
        "id": "PtT6_WucH3Bb"
      }
    },
    {
      "cell_type": "code",
      "source": [
        "if 5 > 2:\n",
        "  print(\"Five is greater than two\")"
      ],
      "metadata": {
        "colab": {
          "base_uri": "https://localhost:8080/"
        },
        "id": "sXOmaQUjIVkb",
        "outputId": "90bad27a-f390-4950-9f76-029e41df8f40"
      },
      "execution_count": null,
      "outputs": [
        {
          "output_type": "stream",
          "name": "stdout",
          "text": [
            "Five is greater than two\n"
          ]
        }
      ]
    },
    {
      "cell_type": "markdown",
      "source": [
        "Python Comments"
      ],
      "metadata": {
        "id": "dj-dZqnQJtab"
      }
    },
    {
      "cell_type": "code",
      "source": [
        "if 5 > 2:\n",
        "  print(\"Five is greater than two\") #comparison of numbers 5 and 2"
      ],
      "metadata": {
        "colab": {
          "base_uri": "https://localhost:8080/"
        },
        "id": "C6ItDjz_JyDr",
        "outputId": "d764395b-a4ea-4b83-cd84-a638988e7a75"
      },
      "execution_count": null,
      "outputs": [
        {
          "output_type": "stream",
          "name": "stdout",
          "text": [
            "Five is greater than two\n"
          ]
        }
      ]
    },
    {
      "cell_type": "markdown",
      "source": [
        "Variable Naming Conventions"
      ],
      "metadata": {
        "id": "SvJGdbnXKu0r"
      }
    },
    {
      "cell_type": "code",
      "source": [
        "# a variable must not start with a \"number\" or have a \"space\""
      ],
      "metadata": {
        "id": "MPQt3sDbKx2L"
      },
      "execution_count": null,
      "outputs": []
    },
    {
      "cell_type": "markdown",
      "source": [
        "Python Variables"
      ],
      "metadata": {
        "id": "s-IdTI-ZLe-q"
      }
    },
    {
      "cell_type": "code",
      "source": [
        "x = 1 # a single variable with a value\n",
        "a, b = 0, -1 # exlusive based on order?\n",
        "\n",
        "print(a)\n",
        "print(b)\n",
        "print (x)\n",
        "\n",
        "b = \"Sally\"\n",
        "\n",
        "print(b)"
      ],
      "metadata": {
        "colab": {
          "base_uri": "https://localhost:8080/"
        },
        "id": "07fXKtLULg3a",
        "outputId": "65c7226a-af14-45bb-8b66-92b7625f3fed"
      },
      "execution_count": null,
      "outputs": [
        {
          "output_type": "stream",
          "name": "stdout",
          "text": [
            "0\n",
            "-1\n",
            "1\n",
            "Sally\n"
          ]
        }
      ]
    },
    {
      "cell_type": "markdown",
      "source": [
        "Casting"
      ],
      "metadata": {
        "id": "Hvk_lM0ZNf6D"
      }
    },
    {
      "cell_type": "code",
      "source": [
        "b = \"sally\" # This is a string\n",
        "b = int(4)\n",
        "\n",
        "print (b)\n",
        "\n",
        "b = float(4)\n",
        "\n",
        "print(b)\n",
        "\n",
        "##############################\n",
        "\n",
        "x = 5\n",
        "y = \"John\"\n",
        "\n",
        "print(type(x))\n",
        "print(type(y))"
      ],
      "metadata": {
        "colab": {
          "base_uri": "https://localhost:8080/"
        },
        "id": "Iber1TRxNg-T",
        "outputId": "5caf6cc6-64df-47e8-a57e-82e197036015"
      },
      "execution_count": null,
      "outputs": [
        {
          "output_type": "stream",
          "name": "stdout",
          "text": [
            "4\n",
            "4.0\n",
            "<class 'int'>\n",
            "<class 'str'>\n"
          ]
        }
      ]
    },
    {
      "cell_type": "markdown",
      "source": [
        "\"Double Quotes\" or 'Single Quotes'"
      ],
      "metadata": {
        "id": "SGZOMvh_PP8s"
      }
    },
    {
      "cell_type": "code",
      "source": [
        "y = \"John\"\n",
        "\n",
        "print(y)\n",
        "\n",
        "y = 'John'\n",
        "\n",
        "print (y)"
      ],
      "metadata": {
        "colab": {
          "base_uri": "https://localhost:8080/"
        },
        "id": "KFxnMudMPWns",
        "outputId": "47e5f33f-4c86-44d7-fc6f-e10e4d16e7f8"
      },
      "execution_count": null,
      "outputs": [
        {
          "output_type": "stream",
          "name": "stdout",
          "text": [
            "John\n",
            "John\n"
          ]
        }
      ]
    },
    {
      "cell_type": "markdown",
      "source": [
        "Case Sensitive"
      ],
      "metadata": {
        "id": "yuLGee1ePzRK"
      }
    },
    {
      "cell_type": "code",
      "source": [
        "a = 4\n",
        "A = \"Sally\"\n",
        "# A will not overwrite a"
      ],
      "metadata": {
        "id": "vblQQL6-P01q"
      },
      "execution_count": null,
      "outputs": []
    },
    {
      "cell_type": "markdown",
      "source": [
        "Multiple Variables"
      ],
      "metadata": {
        "id": "YRbjRkVFQLgT"
      }
    },
    {
      "cell_type": "code",
      "source": [
        "x, y, z = \"one\", \"two\", \"three\"\n",
        "\n",
        "print(x)\n",
        "print(y)\n",
        "print(z)\n",
        "\n",
        "# proves my previous thought"
      ],
      "metadata": {
        "colab": {
          "base_uri": "https://localhost:8080/"
        },
        "id": "hWNUHhuhQNQ7",
        "outputId": "31606bdc-1255-44d9-c3e9-8fa9a20d2c73"
      },
      "execution_count": null,
      "outputs": [
        {
          "output_type": "stream",
          "name": "stdout",
          "text": [
            "one\n",
            "two\n",
            "three\n"
          ]
        }
      ]
    },
    {
      "cell_type": "markdown",
      "source": [
        "One Value to Multiple Variables"
      ],
      "metadata": {
        "id": "GR-TZigqQ5WD"
      }
    },
    {
      "cell_type": "code",
      "source": [
        "x = y = z = \"four\"\n",
        "\n",
        "print(x)\n",
        "print(y)\n",
        "print(z)"
      ],
      "metadata": {
        "colab": {
          "base_uri": "https://localhost:8080/"
        },
        "id": "maPvKbg0Q72r",
        "outputId": "309ddd1d-5cc0-4eba-cbbc-fd7530b593d5"
      },
      "execution_count": null,
      "outputs": [
        {
          "output_type": "stream",
          "name": "stdout",
          "text": [
            "four\n",
            "four\n",
            "four\n"
          ]
        }
      ]
    },
    {
      "cell_type": "markdown",
      "source": [
        "Output Variables"
      ],
      "metadata": {
        "id": "O5ivoll3RLMa"
      }
    },
    {
      "cell_type": "code",
      "source": [
        "x = \"enjoying\"\n",
        "print(\"Python programming is \" + x)\n",
        "\n",
        "# another one\n",
        "\n",
        "x = \"Python is \"\n",
        "y = \"enjoying\"\n",
        "z = x + y\n",
        "print(z)"
      ],
      "metadata": {
        "colab": {
          "base_uri": "https://localhost:8080/"
        },
        "id": "dNxRGZpsRMui",
        "outputId": "da145bef-c3d0-4242-8f46-4ad71d1b7835"
      },
      "execution_count": null,
      "outputs": [
        {
          "output_type": "stream",
          "name": "stdout",
          "text": [
            "Python programming is enjoying\n",
            "Python is #enjoying\n"
          ]
        }
      ]
    },
    {
      "cell_type": "markdown",
      "source": [
        "Arithmetic Operations"
      ],
      "metadata": {
        "id": "2TM-z51-Up0a"
      }
    },
    {
      "cell_type": "code",
      "source": [
        "x = 5\n",
        "y = 3\n",
        "print(x + y)\n",
        "\n",
        "# another one\n",
        "\n",
        "x = 5\n",
        "y = 3\n",
        "sum = x + y\n",
        "sum\n",
        "\n",
        "# another one\n",
        "\n",
        "a, b, c = 0, -1, 6\n",
        "c % 3\n",
        "c"
      ],
      "metadata": {
        "colab": {
          "base_uri": "https://localhost:8080/"
        },
        "id": "awq6w3e0Ur_6",
        "outputId": "e6a1f599-f9ba-4d2f-c216-bb95e17d840e"
      },
      "execution_count": 4,
      "outputs": [
        {
          "output_type": "stream",
          "name": "stdout",
          "text": [
            "8\n"
          ]
        },
        {
          "output_type": "execute_result",
          "data": {
            "text/plain": [
              "6"
            ]
          },
          "metadata": {},
          "execution_count": 4
        }
      ]
    },
    {
      "cell_type": "markdown",
      "source": [
        "Comparison Operators"
      ],
      "metadata": {
        "id": "yaKTE-GvWgYS"
      }
    },
    {
      "cell_type": "code",
      "source": [
        "# ==, <, >, <=, >="
      ],
      "metadata": {
        "id": "fOqD_9SYWi57"
      },
      "execution_count": null,
      "outputs": []
    },
    {
      "cell_type": "markdown",
      "source": [
        "Logical Operators"
      ],
      "metadata": {
        "id": "CYd2ohfmW2nJ"
      }
    },
    {
      "cell_type": "code",
      "source": [
        "# and, or, not"
      ],
      "metadata": {
        "id": "9oE6fubgW4_i"
      },
      "execution_count": null,
      "outputs": []
    },
    {
      "cell_type": "markdown",
      "source": [
        "Identity Operators"
      ],
      "metadata": {
        "id": "pW8GwCU5XdtC"
      }
    },
    {
      "cell_type": "code",
      "source": [
        "#is, is not\n",
        "# this time, it's the object\n",
        "\n",
        "a, b, c = 0, -1, 5\n",
        "a is a\n",
        "a is b\n",
        "a is c\n",
        "b is a\n",
        "b is b\n",
        "b is c\n",
        "c is a\n",
        "c is b\n",
        "c is c"
      ],
      "metadata": {
        "colab": {
          "base_uri": "https://localhost:8080/"
        },
        "id": "REs8-9-2Xg2B",
        "outputId": "6b68a750-a7ac-4c55-80df-1d59a475606e"
      },
      "execution_count": 7,
      "outputs": [
        {
          "output_type": "execute_result",
          "data": {
            "text/plain": [
              "True"
            ]
          },
          "metadata": {},
          "execution_count": 7
        }
      ]
    },
    {
      "cell_type": "markdown",
      "source": [
        "Bitwise Operators"
      ],
      "metadata": {
        "id": "OtXSaIUBYCb6"
      }
    },
    {
      "cell_type": "code",
      "source": [
        "# & = AND, | = OR, ^ = XOR, ~ = NOT, << = ZERO FILL / LEFT SHIFT, >> = SIGNED / RIGHT SHIFT"
      ],
      "metadata": {
        "id": "-rLGOSd-YEGC"
      },
      "execution_count": null,
      "outputs": []
    }
  ]
}