{
  "nbformat": 4,
  "nbformat_minor": 0,
  "metadata": {
    "colab": {
      "provenance": [],
      "authorship_tag": "ABX9TyPmYDxKVi3TpZ+uACZ799eR",
      "include_colab_link": true
    },
    "kernelspec": {
      "name": "python3",
      "display_name": "Python 3"
    },
    "language_info": {
      "name": "python"
    }
  },
  "cells": [
    {
      "cell_type": "markdown",
      "metadata": {
        "id": "view-in-github",
        "colab_type": "text"
      },
      "source": [
        "<a href=\"https://colab.research.google.com/github/EarelJohnOnod/CPE009A-OOP/blob/main/Demo4.ipynb\" target=\"_parent\"><img src=\"https://colab.research.google.com/assets/colab-badge.svg\" alt=\"Open In Colab\"/></a>"
      ]
    },
    {
      "cell_type": "code",
      "execution_count": 13,
      "metadata": {
        "colab": {
          "base_uri": "https://localhost:8080/"
        },
        "id": "SFTm_dO3S3nY",
        "outputId": "9d929c26-42df-4b74-f473-aea54b68bc72"
      },
      "outputs": [
        {
          "output_type": "stream",
          "name": "stdout",
          "text": [
            "True\n",
            "True\n",
            "False\n",
            "False\n",
            "False\n",
            "False\n",
            "False\n",
            "False\n",
            "True\n",
            "True\n",
            "False\n",
            "True\n"
          ]
        }
      ],
      "source": [
        "print(bool(\"Hello\"))\n",
        "print(bool(15))\n",
        "print(bool(False))\n",
        "print(bool(None))\n",
        "print(bool(0))\n",
        "print(bool(\"\"))\n",
        "print(bool(()))\n",
        "print(bool([]))\n",
        "print(bool(-1))\n",
        "print(bool(\"Zero\"))\n",
        "print(bool(9 > 10))\n",
        "print(bool(2 % 10))"
      ]
    },
    {
      "cell_type": "markdown",
      "source": [
        "Functions can return a boolean"
      ],
      "metadata": {
        "id": "c-2oRX_saeNg"
      }
    },
    {
      "cell_type": "code",
      "source": [
        "def myFunction():\n",
        "  return True\n",
        "\n",
        "if myFunction():\n",
        "  print(\"YES!\")\n",
        "else:\n",
        "  print(\"NO!\")"
      ],
      "metadata": {
        "colab": {
          "base_uri": "https://localhost:8080/"
        },
        "id": "MsFkM376ahc3",
        "outputId": "ce8a1fb0-dba3-4713-abd5-eca68c944e8c"
      },
      "execution_count": 15,
      "outputs": [
        {
          "output_type": "stream",
          "name": "stdout",
          "text": [
            "YES!\n"
          ]
        }
      ]
    },
    {
      "cell_type": "code",
      "source": [
        "def aStatement():\n",
        "  six = 6\n",
        "\n",
        "if aStatement():\n",
        "  print(\"YES!\")\n",
        "else:\n",
        "  print(\"NO!\")"
      ],
      "metadata": {
        "colab": {
          "base_uri": "https://localhost:8080/"
        },
        "id": "ruoMUUEObbf_",
        "outputId": "6099d58e-8d43-45d3-befb-5f3de47b3d59"
      },
      "execution_count": 16,
      "outputs": [
        {
          "output_type": "stream",
          "name": "stdout",
          "text": [
            "NO!\n"
          ]
        }
      ]
    },
    {
      "cell_type": "code",
      "source": [
        "def myFunction():\n",
        "  return False\n",
        "\n",
        "if myFunction():\n",
        "  print(\"YES!\")\n",
        "else:\n",
        "  print(\"NO!\")"
      ],
      "metadata": {
        "colab": {
          "base_uri": "https://localhost:8080/"
        },
        "id": "b9UOq9Vtb4Gv",
        "outputId": "3789e7e6-aea2-4770-af83-9978cbe3c755"
      },
      "execution_count": 18,
      "outputs": [
        {
          "output_type": "stream",
          "name": "stdout",
          "text": [
            "NO!\n"
          ]
        }
      ]
    },
    {
      "cell_type": "code",
      "source": [
        "print(10 > 9)\n",
        "\n",
        "a = 6\n",
        "b = 7\n",
        "print(a == b)\n",
        "print(a != b)"
      ],
      "metadata": {
        "colab": {
          "base_uri": "https://localhost:8080/"
        },
        "id": "kBQQP2nfcFuo",
        "outputId": "dfe328a5-6a64-42f8-901a-f1fa4a187926"
      },
      "execution_count": 19,
      "outputs": [
        {
          "output_type": "stream",
          "name": "stdout",
          "text": [
            "True\n",
            "False\n",
            "True\n"
          ]
        }
      ]
    },
    {
      "cell_type": "markdown",
      "source": [
        "**Python Operators**"
      ],
      "metadata": {
        "id": "axPFUEw2da4J"
      }
    },
    {
      "cell_type": "code",
      "source": [
        "print(10 + 5)\n",
        "print(10 - 5)\n",
        "print(10 * 5)\n",
        "print(10 % 5)\n",
        "print(10 / 3)\n",
        "print(10 // 3)\n",
        "print(10 ** 2)"
      ],
      "metadata": {
        "colab": {
          "base_uri": "https://localhost:8080/"
        },
        "id": "I8qROFLucncX",
        "outputId": "4009b462-9071-4c41-883a-9f01ca622574"
      },
      "execution_count": 26,
      "outputs": [
        {
          "output_type": "stream",
          "name": "stdout",
          "text": [
            "15\n",
            "5\n",
            "50\n",
            "0\n",
            "3.3333333333333335\n",
            "3\n",
            "100\n"
          ]
        }
      ]
    },
    {
      "cell_type": "markdown",
      "source": [
        "**Python Bitwise Operators**"
      ],
      "metadata": {
        "id": "2dc_i5XSfL2x"
      }
    },
    {
      "cell_type": "code",
      "source": [
        "a = 60\n",
        "b = 13\n",
        "print(a & b)\n",
        "print(a | b)\n",
        "print(a ^ b)\n",
        "print(~a)\n",
        "print(a << 2)\n",
        "print(a >> 2)"
      ],
      "metadata": {
        "colab": {
          "base_uri": "https://localhost:8080/"
        },
        "id": "Ot8nzPuufP7w",
        "outputId": "2f1968cd-4833-4031-e1cc-44d61dc7b0cc"
      },
      "execution_count": 45,
      "outputs": [
        {
          "output_type": "stream",
          "name": "stdout",
          "text": [
            "12\n",
            "61\n",
            "49\n",
            "-61\n",
            "240\n",
            "15\n"
          ]
        }
      ]
    },
    {
      "cell_type": "markdown",
      "source": [
        "**Python Assignment Operators**"
      ],
      "metadata": {
        "id": "qiBTsT9RipnI"
      }
    },
    {
      "cell_type": "code",
      "source": [
        "x = 0\n",
        "\n",
        "x += 3 # 0 + 3\n",
        "\n",
        "print(x)\n",
        "\n",
        "x -= 3 # 3 -3\n",
        "\n",
        "print(x)\n",
        "\n",
        "x *= 3 # 0 * 3\n",
        "\n",
        "print(x)\n",
        "\n",
        "x /= 3 # 0 / 3\n",
        "\n",
        "print(x)\n",
        "\n",
        "x %= 3 # 0 % 3\n",
        "\n",
        "print(x)"
      ],
      "metadata": {
        "colab": {
          "base_uri": "https://localhost:8080/"
        },
        "id": "JeQz_irzitkB",
        "outputId": "fca8c964-cd0f-4586-f820-020f5c4c8ff4"
      },
      "execution_count": 43,
      "outputs": [
        {
          "output_type": "stream",
          "name": "stdout",
          "text": [
            "3\n",
            "0\n",
            "0\n",
            "0.0\n",
            "0.0\n"
          ]
        }
      ]
    },
    {
      "cell_type": "markdown",
      "source": [
        "**Logical Operators**"
      ],
      "metadata": {
        "id": "9d5bEf7JkrRX"
      }
    },
    {
      "cell_type": "code",
      "source": [
        "expectation = True\n",
        "reality = False\n",
        "truth = expectation and reality\n",
        "\n",
        "print(truth)"
      ],
      "metadata": {
        "colab": {
          "base_uri": "https://localhost:8080/"
        },
        "id": "oGqu5eIjkvLZ",
        "outputId": "3273dcef-ce0a-4051-847b-ac7b6446a91f"
      },
      "execution_count": 48,
      "outputs": [
        {
          "output_type": "stream",
          "name": "stdout",
          "text": [
            "False\n"
          ]
        }
      ]
    },
    {
      "cell_type": "code",
      "source": [
        "y = 60\n",
        "z = 13\n",
        "same = y>z and z>y\n",
        "notsame = not(y>z and z>y)\n",
        "oneisright = y>z or z>y\n",
        "\n",
        "print(same)\n",
        "print(notsame)\n",
        "print(oneisright)"
      ],
      "metadata": {
        "colab": {
          "base_uri": "https://localhost:8080/"
        },
        "id": "I5US6O1ElzWh",
        "outputId": "0000c144-f6cb-48b0-938e-815db370a981"
      },
      "execution_count": 53,
      "outputs": [
        {
          "output_type": "stream",
          "name": "stdout",
          "text": [
            "False\n",
            "True\n",
            "True\n"
          ]
        }
      ]
    },
    {
      "cell_type": "markdown",
      "source": [
        "**Identity Operator**"
      ],
      "metadata": {
        "id": "XkIv68OAm--I"
      }
    },
    {
      "cell_type": "code",
      "source": [
        "print(a is a)\n",
        "print(a is not a)\n",
        "print(a is z)\n",
        "print(a is not z)"
      ],
      "metadata": {
        "colab": {
          "base_uri": "https://localhost:8080/"
        },
        "id": "ZrGdl1U3nBgg",
        "outputId": "9c0917b3-c08d-46a5-a1e0-8a872e890a71"
      },
      "execution_count": 57,
      "outputs": [
        {
          "output_type": "stream",
          "name": "stdout",
          "text": [
            "True\n",
            "False\n",
            "False\n",
            "True\n"
          ]
        }
      ]
    },
    {
      "cell_type": "markdown",
      "source": [
        "**Loop Statements**"
      ],
      "metadata": {
        "id": "BXXPcWklqSeA"
      }
    },
    {
      "cell_type": "code",
      "source": [
        "week = [\"Sunday\", \"Monday\", \"Tuesday\", \"Wednesday\", \"Thursday\", \"Friday\", \"Saturday\"]\n",
        "\n",
        "for x in week:\n",
        "\n",
        "  if x == \"Thursday\":\n",
        "    print(x)"
      ],
      "metadata": {
        "colab": {
          "base_uri": "https://localhost:8080/"
        },
        "id": "N5LC_cCuqVJB",
        "outputId": "c158f076-eda7-4504-caad-df6ef3ad30c9"
      },
      "execution_count": 76,
      "outputs": [
        {
          "output_type": "stream",
          "name": "stdout",
          "text": [
            "Thursday\n"
          ]
        }
      ]
    },
    {
      "cell_type": "markdown",
      "source": [
        "Looping through string"
      ],
      "metadata": {
        "id": "tdVVHBXfubwg"
      }
    },
    {
      "cell_type": "code",
      "source": [
        "for x in \"week\":\n",
        "  print(x)"
      ],
      "metadata": {
        "colab": {
          "base_uri": "https://localhost:8080/"
        },
        "id": "niUYBkaNuLeg",
        "outputId": "61464101-c932-48eb-8344-6ed1f6ea11ad"
      },
      "execution_count": 78,
      "outputs": [
        {
          "output_type": "stream",
          "name": "stdout",
          "text": [
            "w\n",
            "e\n",
            "e\n",
            "k\n"
          ]
        }
      ]
    },
    {
      "cell_type": "markdown",
      "source": [
        "Simple loop statement"
      ],
      "metadata": {
        "id": "nQlLcsDjuf7P"
      }
    },
    {
      "cell_type": "code",
      "source": [
        "import time\n",
        "\n",
        "sentence = [\"Hello \" , \"there\", \".\"]\n",
        "\n",
        "for x in sentence:\n",
        "  time.sleep(1)\n",
        "  print(x)"
      ],
      "metadata": {
        "colab": {
          "base_uri": "https://localhost:8080/"
        },
        "id": "fg15e15frGaX",
        "outputId": "97045e3d-d366-46e7-a508-975cda862660"
      },
      "execution_count": 69,
      "outputs": [
        {
          "output_type": "stream",
          "name": "stdout",
          "text": [
            "Hello \n",
            "there\n",
            ".\n"
          ]
        }
      ]
    },
    {
      "cell_type": "markdown",
      "source": [
        "**The range() Function**"
      ],
      "metadata": {
        "id": "eyK4JhLQvYdG"
      }
    },
    {
      "cell_type": "code",
      "source": [
        "for x in range(6):\n",
        "  print(x)\n",
        "for x in range(2, 6):\n",
        "  print(x)\n"
      ],
      "metadata": {
        "colab": {
          "base_uri": "https://localhost:8080/"
        },
        "id": "j7iqWtdxve6P",
        "outputId": "ab1f7806-5904-43a8-b5ef-8eec9edf12f0"
      },
      "execution_count": 84,
      "outputs": [
        {
          "output_type": "stream",
          "name": "stdout",
          "text": [
            "0\n",
            "1\n",
            "2\n",
            "3\n",
            "4\n",
            "5\n",
            "2\n",
            "3\n",
            "4\n",
            "5\n"
          ]
        }
      ]
    },
    {
      "cell_type": "markdown",
      "source": [
        "Nested Loops"
      ],
      "metadata": {
        "id": "V8-NaMU_wtaf"
      }
    },
    {
      "cell_type": "code",
      "source": [
        "adjective = [\"red\", \"big\", \"tasty\"]\n",
        "fruits = [\"apple\", \"banana\", \"cherry\"]\n",
        "\n",
        "for x in adjective:\n",
        "  for y in fruits:\n",
        "    print(x, y)"
      ],
      "metadata": {
        "colab": {
          "base_uri": "https://localhost:8080/"
        },
        "id": "COXUYAaLwwDA",
        "outputId": "58949d48-1f35-493c-c13e-656b69d3f70c"
      },
      "execution_count": 85,
      "outputs": [
        {
          "output_type": "stream",
          "name": "stdout",
          "text": [
            "red apple\n",
            "red banana\n",
            "red cherry\n",
            "big apple\n",
            "big banana\n",
            "big cherry\n",
            "tasty apple\n",
            "tasty banana\n",
            "tasty cherry\n"
          ]
        }
      ]
    },
    {
      "cell_type": "markdown",
      "source": [
        "**Python While Loops**"
      ],
      "metadata": {
        "id": "ZydrVsnPxqsb"
      }
    },
    {
      "cell_type": "code",
      "source": [
        "i = 1\n",
        "while i < 6:\n",
        "  print(i)\n",
        "  i += 1"
      ],
      "metadata": {
        "colab": {
          "base_uri": "https://localhost:8080/"
        },
        "id": "oO8t8AdjxuMn",
        "outputId": "17e7492c-7ec9-409a-9091-cd400dde42fc"
      },
      "execution_count": 86,
      "outputs": [
        {
          "output_type": "stream",
          "name": "stdout",
          "text": [
            "1\n",
            "2\n",
            "3\n",
            "4\n",
            "5\n"
          ]
        }
      ]
    },
    {
      "cell_type": "markdown",
      "source": [
        "**The continue Statement**"
      ],
      "metadata": {
        "id": "jEH6_3DlzPXu"
      }
    },
    {
      "cell_type": "code",
      "source": [
        "i = 0\n",
        "while i < 6:\n",
        "  i += 1\n",
        "  if i == 3:\n",
        "    continue\n",
        "  print(i)"
      ],
      "metadata": {
        "colab": {
          "base_uri": "https://localhost:8080/"
        },
        "id": "nZobGqHTzTlW",
        "outputId": "9fe37050-ffae-4984-df86-68a26cd85da8"
      },
      "execution_count": 95,
      "outputs": [
        {
          "output_type": "stream",
          "name": "stdout",
          "text": [
            "1\n",
            "2\n",
            "4\n",
            "5\n",
            "6\n"
          ]
        }
      ]
    },
    {
      "cell_type": "markdown",
      "source": [
        "**The else Statement**"
      ],
      "metadata": {
        "id": "PIlyoepczmFf"
      }
    },
    {
      "cell_type": "code",
      "source": [
        "i = 1\n",
        "while i < 6:\n",
        "  print(i)\n",
        "  i += 1\n",
        "else:\n",
        "  print(\"i is no longer less than 6\")"
      ],
      "metadata": {
        "colab": {
          "base_uri": "https://localhost:8080/"
        },
        "id": "OttWv3t1zoyv",
        "outputId": "f5aa32b0-30b8-432b-a6f5-fca3d1c311a2"
      },
      "execution_count": 97,
      "outputs": [
        {
          "output_type": "stream",
          "name": "stdout",
          "text": [
            "1\n",
            "2\n",
            "3\n",
            "4\n",
            "5\n",
            "i is no longer less than 6\n"
          ]
        }
      ]
    }
  ]
}