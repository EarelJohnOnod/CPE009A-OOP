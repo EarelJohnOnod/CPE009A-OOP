{
  "nbformat": 4,
  "nbformat_minor": 0,
  "metadata": {
    "colab": {
      "provenance": [],
      "authorship_tag": "ABX9TyOg7jIf76EGu97sLxafKY32",
      "include_colab_link": true
    },
    "kernelspec": {
      "name": "python3",
      "display_name": "Python 3"
    },
    "language_info": {
      "name": "python"
    }
  },
  "cells": [
    {
      "cell_type": "markdown",
      "metadata": {
        "id": "view-in-github",
        "colab_type": "text"
      },
      "source": [
        "<a href=\"https://colab.research.google.com/github/EarelJohnOnod/CPE009A-OOP/blob/main/Prelim_Quiz_(Code).ipynb\" target=\"_parent\"><img src=\"https://colab.research.google.com/assets/colab-badge.svg\" alt=\"Open In Colab\"/></a>"
      ]
    },
    {
      "cell_type": "code",
      "execution_count": 4,
      "metadata": {
        "colab": {
          "base_uri": "https://localhost:8080/"
        },
        "id": "YEmQI4GJQtws",
        "outputId": "d1bc005b-e74c-4688-ef25-b70cf7b33eac"
      },
      "outputs": [
        {
          "output_type": "stream",
          "name": "stdout",
          "text": [
            "10.5\n"
          ]
        }
      ],
      "source": [
        "n = 20\n",
        "tn = n\n",
        "sum = 0\n",
        "ave = 0\n",
        "\n",
        "while(n>=0):\n",
        "  sum += n\n",
        "  n -= 1\n",
        "else:\n",
        "  ave = sum / tn\n",
        "  print(ave)"
      ]
    }
  ]
}